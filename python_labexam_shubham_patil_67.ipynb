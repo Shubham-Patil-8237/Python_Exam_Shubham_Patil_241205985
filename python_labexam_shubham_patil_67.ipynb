{
 "cells": [
  {
   "cell_type": "code",
   "execution_count": 16,
   "id": "35551990-792e-46e6-90ab-6f704605fee2",
   "metadata": {},
   "outputs": [],
   "source": [
    "# 1. Missing characters to Form a Panagram\n",
    "\n",
    "def panagram():\n",
    "    my_panagram = (abcdefghijklmnopqrstuvwxyzABCDEFGHIJKLMNOPQRSTUVWXYZ)\n",
    "    s = list(map(int,input(\"Enter a string: \").split()))\n",
    "    if my_panagram in s:\n",
    "        print(\"Missing characters are\",my_panagram - s)\n",
    "    else:\n",
    "        print(\"empty\")\n",
    "        return my_panagram"
   ]
  },
  {
   "cell_type": "code",
   "execution_count": 17,
   "id": "19fe6534-e8ca-4f39-94c3-3369ca935c45",
   "metadata": {},
   "outputs": [
    {
     "ename": "NameError",
     "evalue": "name 'abcdefghijklmnopqrstuvwxyzABCDEFGHIJKLMNOPQRSTUVWXYZ' is not defined",
     "output_type": "error",
     "traceback": [
      "\u001b[1;31m---------------------------------------------------------------------------\u001b[0m",
      "\u001b[1;31mNameError\u001b[0m                                 Traceback (most recent call last)",
      "Cell \u001b[1;32mIn[17], line 1\u001b[0m\n\u001b[1;32m----> 1\u001b[0m panagram()\n",
      "Cell \u001b[1;32mIn[16], line 4\u001b[0m, in \u001b[0;36mpanagram\u001b[1;34m()\u001b[0m\n\u001b[0;32m      3\u001b[0m \u001b[38;5;28;01mdef\u001b[39;00m \u001b[38;5;21mpanagram\u001b[39m():\n\u001b[1;32m----> 4\u001b[0m     my_panagram \u001b[38;5;241m=\u001b[39m (abcdefghijklmnopqrstuvwxyzABCDEFGHIJKLMNOPQRSTUVWXYZ)\n\u001b[0;32m      5\u001b[0m     s \u001b[38;5;241m=\u001b[39m \u001b[38;5;28mlist\u001b[39m(\u001b[38;5;28mmap\u001b[39m(\u001b[38;5;28mint\u001b[39m,\u001b[38;5;28minput\u001b[39m(\u001b[38;5;124m\"\u001b[39m\u001b[38;5;124mEnter a string: \u001b[39m\u001b[38;5;124m\"\u001b[39m)\u001b[38;5;241m.\u001b[39msplit()))\n\u001b[0;32m      6\u001b[0m     \u001b[38;5;28;01mif\u001b[39;00m my_panagram \u001b[38;5;129;01min\u001b[39;00m s:\n",
      "\u001b[1;31mNameError\u001b[0m: name 'abcdefghijklmnopqrstuvwxyzABCDEFGHIJKLMNOPQRSTUVWXYZ' is not defined"
     ]
    }
   ],
   "source": [
    "panagram() "
   ]
  },
  {
   "cell_type": "code",
   "execution_count": null,
   "id": "723111b9-d63d-46bd-abae-33c5f34b9392",
   "metadata": {},
   "outputs": [],
   "source": []
  }
 ],
 "metadata": {
  "kernelspec": {
   "display_name": "Python 3 (ipykernel)",
   "language": "python",
   "name": "python3"
  },
  "language_info": {
   "codemirror_mode": {
    "name": "ipython",
    "version": 3
   },
   "file_extension": ".py",
   "mimetype": "text/x-python",
   "name": "python",
   "nbconvert_exporter": "python",
   "pygments_lexer": "ipython3",
   "version": "3.12.7"
  }
 },
 "nbformat": 4,
 "nbformat_minor": 5
}
